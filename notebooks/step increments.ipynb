{
 "cells": [
  {
   "cell_type": "code",
   "execution_count": 2,
   "metadata": {
    "cellView": "both",
    "colab_type": "code",
    "collapsed": false,
    "id": "Pqz5k4syOZNA"
   },
   "outputs": [],
   "source": [
    "# imports and basic notebook setup\n",
    "from cStringIO import StringIO\n",
    "import numpy as np\n",
    "import scipy.ndimage as nd\n",
    "import PIL.Image\n",
    "from IPython.display import clear_output, Image, display\n",
    "from google.protobuf import text_format\n",
    "import glob\n",
    "import os\n",
    "\n",
    "import caffe\n",
    "\n",
    "def showarray(a, fmt='jpeg'):\n",
    "    a = np.uint8(np.clip(a, 0, 255))\n",
    "    f = StringIO()\n",
    "    PIL.Image.fromarray(a).save(f, fmt)\n",
    "    display(Image(data=f.getvalue()))"
   ]
  },
  {
   "cell_type": "code",
   "execution_count": 3,
   "metadata": {
    "cellView": "both",
    "colab_type": "code",
    "collapsed": false,
    "id": "i9hkSm1IOZNR"
   },
   "outputs": [],
   "source": [
    "model_path = '../caffe/models/bvlc_googlenet/' # substitute your path here\n",
    "net_fn   = model_path + 'deploy.prototxt'\n",
    "param_fn ='/models/bvlc_googlenet.caffemodel'\n",
    "\n",
    "# Patching model to be able to compute gradients.\n",
    "# Note that you can also manually add \"force_backward: true\" line to \"deploy.prototxt\".\n",
    "model = caffe.io.caffe_pb2.NetParameter()\n",
    "text_format.Merge(open(net_fn).read(), model)\n",
    "model.force_backward = True\n",
    "open('tmp.prototxt', 'w').write(str(model))\n",
    "\n",
    "net = caffe.Classifier('tmp.prototxt', param_fn,\n",
    "                       mean = np.float32([104.0, 116.0, 122.0]), # ImageNet mean, training set dependent\n",
    "                       channel_swap = (2,1,0)) # the reference model has channels in BGR order instead of RGB\n",
    "\n",
    "# a couple of utility functions for converting to and from Caffe's input image layout\n",
    "def preprocess(net, img):\n",
    "    return np.float32(np.rollaxis(img, 2)[::-1]) - net.transformer.mean['data']\n",
    "def deprocess(net, img):\n",
    "    return np.dstack((img + net.transformer.mean['data'])[::-1])"
   ]
  },
  {
   "cell_type": "markdown",
   "metadata": {
    "colab_type": "text",
    "id": "UeV_fJ4QOZNb"
   },
   "source": [
    "##  Producing dreams"
   ]
  },
  {
   "cell_type": "code",
   "execution_count": 4,
   "metadata": {
    "cellView": "both",
    "colab_type": "code",
    "collapsed": false,
    "id": "pN43nMsHOZNg"
   },
   "outputs": [],
   "source": [
    "def objective_L2(dst):\n",
    "    dst.diff[:] = dst.data \n",
    "\n",
    "def make_step(net, step_size=1.5, end='inception_4c/output', \n",
    "              jitter=32, clip=True, objective=objective_L2):\n",
    "    '''Basic gradient ascent step.'''\n",
    "\n",
    "    src = net.blobs['data'] # input image is stored in Net's 'data' blob\n",
    "    dst = net.blobs[end]\n",
    "\n",
    "    ox, oy = np.random.randint(-jitter, jitter+1, 2)\n",
    "    src.data[0] = np.roll(np.roll(src.data[0], ox, -1), oy, -2) # apply jitter shift\n",
    "            \n",
    "    net.forward(end=end)\n",
    "    objective(dst)  # specify the optimization objective\n",
    "    net.backward(start=end)\n",
    "    g = src.diff[0]\n",
    "    # apply normalized ascent step to the input image\n",
    "    src.data[:] += step_size/np.abs(g).mean() * g\n",
    "\n",
    "    src.data[0] = np.roll(np.roll(src.data[0], -ox, -1), -oy, -2) # unshift image\n",
    "            \n",
    "    if clip:\n",
    "        bias = net.transformer.mean['data']\n",
    "        src.data[:] = np.clip(src.data, -bias, 255-bias)    "
   ]
  },
  {
   "cell_type": "markdown",
   "metadata": {
    "colab_type": "text",
    "id": "nphEdlBgOZNk"
   },
   "source": [
    "Next we implement an ascent through different scales. We call these scales \"octaves\"."
   ]
  },
  {
   "cell_type": "code",
   "execution_count": 5,
   "metadata": {
    "cellView": "both",
    "colab_type": "code",
    "collapsed": false,
    "id": "ZpFIn8l0OZNq"
   },
   "outputs": [],
   "source": [
    "def deepdream(net, base_img, iter_n=10, octave_n=4, octave_scale=1.4, \n",
    "              end='inception_4c/output', clip=True, filename=\"\", init_step_size=1.5, step_step=0, **step_params):\n",
    "    # prepare base images for all octaves\n",
    "    octaves = [preprocess(net, base_img)]\n",
    "    for i in xrange(octave_n-1):\n",
    "        octaves.append(nd.zoom(octaves[-1], (1, 1.0/octave_scale,1.0/octave_scale), order=1))\n",
    "    \n",
    "    src = net.blobs['data']\n",
    "    detail = np.zeros_like(octaves[-1]) # allocate image for network-produced details\n",
    "    for octave, octave_base in enumerate(octaves[::-1]):\n",
    "        h, w = octave_base.shape[-2:]\n",
    "        if octave > 0:\n",
    "            # upscale details from the previous octave\n",
    "            h1, w1 = detail.shape[-2:]\n",
    "            detail = nd.zoom(detail, (1, 1.0*h/h1,1.0*w/w1), order=1)\n",
    "\n",
    "        src.reshape(1,3,h,w) # resize the network's input image size\n",
    "        src.data[0] = octave_base+detail\n",
    "        for i in xrange(iter_n):\n",
    "            make_step(net, end=end, clip=clip, step_size=init_step_size * i*step_step, **step_params)\n",
    "            \n",
    "            # visualization\n",
    "            vis = deprocess(net, src.data[0])\n",
    "            if not clip: # adjust image contrast if clipping is disabled\n",
    "                vis = vis*(255.0/np.percentile(vis, 99.98))\n",
    "            showarray(vis)\n",
    "            if filename:\n",
    "                PIL.Image.fromarray(np.uint8(vis)).save('%s_%i_%i.jpg' % (filename, octave, i))\n",
    "            print octave, i, end, vis.shape\n",
    "            clear_output(wait=True)\n",
    "            \n",
    "        # extract details produced on the current octave\n",
    "        detail = src.data[0]-octave_base\n",
    "    # returning the resulting image\n",
    "    return deprocess(net, src.data[0])"
   ]
  },
  {
   "cell_type": "code",
   "execution_count": 6,
   "metadata": {
    "collapsed": false
   },
   "outputs": [],
   "source": [
    "import os\n",
    "os.chdir('/photos')\n",
    "os.mkdir('blackberries_step_linear')\n",
    "\n",
    "photo = 'IMG_4759.jpg'\n"
   ]
  },
  {
   "cell_type": "code",
   "execution_count": 7,
   "metadata": {
    "collapsed": false
   },
   "outputs": [],
   "source": [
    "jpg = PIL.Image.open(photo)\n",
    "shrink  = 2\n",
    "jpg.thumbnail(np.array(jpg.size)/shrink, PIL.Image.ANTIALIAS)\n",
    "img = np.float32(jpg)\n"
   ]
  },
  {
   "cell_type": "code",
   "execution_count": null,
   "metadata": {
    "collapsed": false
   },
   "outputs": [],
   "source": [
    "deepdream(net, img, iter_n=5, step_step=0.5, filename='blackberries_step_linear/blackberries')"
   ]
  },
  {
   "cell_type": "code",
   "execution_count": null,
   "metadata": {
    "collapsed": true
   },
   "outputs": [],
   "source": []
  }
 ],
 "metadata": {
  "colabVersion": "0.3.1",
  "default_view": {},
  "kernelspec": {
   "display_name": "Python 2",
   "language": "python",
   "name": "python2"
  },
  "language_info": {
   "codemirror_mode": {
    "name": "ipython",
    "version": 2
   },
   "file_extension": ".py",
   "mimetype": "text/x-python",
   "name": "python",
   "nbconvert_exporter": "python",
   "pygments_lexer": "ipython2",
   "version": "2.7.6"
  },
  "views": {}
 },
 "nbformat": 4,
 "nbformat_minor": 0
}
